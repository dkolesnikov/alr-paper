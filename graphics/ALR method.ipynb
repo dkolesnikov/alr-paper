{
 "metadata": {
  "name": "",
  "signature": "sha256:8daa3932a3450aacaca717f4d5929883ff7bd6e10142a169d57a93700422dd52"
 },
 "nbformat": 3,
 "nbformat_minor": 0,
 "worksheets": [
  {
   "cells": [
    {
     "cell_type": "code",
     "collapsed": false,
     "input": [
      "#import\n",
      "import sys\n",
      "sys.path.append('../')\n",
      "import lyaplr\n",
      "import lyaplr.algorithms.solvers as gm\n",
      "import lyaplr.algorithms.norms_and_gradients as ng\n",
      "import lyaplr.algorithms.manifold_methods as mm\n",
      "import numpy as np\n",
      "import scipy.sparse as sp\n",
      "import math\n",
      "import scipy.sparse.linalg as sla\n",
      "from numpy.random import randn as nprand\n",
      "import scipy.linalg as la\n",
      "from scipy.io import loadmat, savemat\n",
      "from time import time\n",
      "import pickle"
     ],
     "language": "python",
     "metadata": {
      "code_folding": [
       0
      ]
     },
     "outputs": [],
     "prompt_number": 1
    },
    {
     "cell_type": "code",
     "collapsed": false,
     "input": [
      "#ALR method\n",
      "def compute_alr(a, y0, id_n, acc):  \n",
      "    r = 49\n",
      "    inner_toler = 1e-16\n",
      "    max_eps = 0.2\n",
      "    u = y0 / la.norm(y0)\n",
      "    b = u.T.dot(a.dot(u))\n",
      "    toler = la.norm(a.dot(u)/b - u) * acc \n",
      "    \n",
      "    resnrm_alr, eps_alr, eps_z, eps_u1 = [], [], [], []\n",
      "    #la.norm(a.dot(u)/b - u) * la.norm(y0)**2]\n",
      "    \n",
      "    i = 0\n",
      "    u = np.linalg.qr(u, mode='reduced')[0]\n",
      "    w0 = a.dot(u) - u.dot(b)\n",
      "    w0 /= la.norm(w0)\n",
      "    w0 = w0.reshape(-1, 1)\n",
      "\n",
      "    while True: #u.shape[1] <= r:\n",
      "      \n",
      "        \n",
      "        au = a.dot(u)\n",
      "        b = u.T.dot(au)\n",
      "        yr = u.T.dot(y0)\n",
      "        z0 = la.solve_lyapunov(b, yr.dot(yr.T))\n",
      "        u1 = au - u.dot(b)\n",
      "        rs = u1.dot(z0)\n",
      "\n",
      "        q = la.norm(rs)\n",
      "        if u1.shape[1] > 1:\n",
      "            u2 = np.zeros(u1.shape)\n",
      "            u2[:, 0] = u1[:, 0]\n",
      "            u2[:, 1] = u1[:, 1]\n",
      "            rs2 = u2.dot(z0)\n",
      "            #print la.norm(rs - rs2)/la.norm(rs)\n",
      "            q = la.norm(rs2)\n",
      "        #    print la.norm(u1[:, 0]), la.norm(u1[:, 1]), la.norm(u1[:, 2:]), la.norm(rs - w0.dot(w0.T.dot(rs)))/la.norm(rs)\n",
      "\n",
      "        resnrm_alr.append(q)\n",
      "        if i >= r:\n",
      "            break\n",
      "            \n",
      "        qn = z0[0, :].reshape(1, -1)\n",
      "        qn /= la.norm(qn)\n",
      "        \n",
      "        bn = qn.dot(b).dot(qn.T)\n",
      "        v = sla.spsolve(a + bn[0, 0] * id_n, w0).reshape(-1, 1)\n",
      "        \n",
      "        u = np.hstack((w0, u))\n",
      "        v -= u.dot(u.T.dot(v))\n",
      "        v /= la.norm(v)\n",
      "        v -= u.dot(u.T.dot(v))\n",
      "        v /= la.norm(v)\n",
      "        u = np.hstack((v, u))\n",
      "        \n",
      "        w0 = a.dot(w0)\n",
      "        w0 -= u.dot(u.T.dot(w0))\n",
      "        w_norm = la.norm(w0)\n",
      "        w0 /= la.norm(w0)\n",
      "        w0 -= u.dot(u.T.dot(w0))\n",
      "        w0 /= la.norm(w0)\n",
      "        \n",
      "        i += 1\n",
      "    return {'resnorm': resnrm_alr, 'u': u, 'eps': eps_alr, 'eps_z': eps_z, 'eps_u1': eps_u1}"
     ],
     "language": "python",
     "metadata": {
      "code_folding": [
       0
      ]
     },
     "outputs": [],
     "prompt_number": 2
    },
    {
     "cell_type": "code",
     "collapsed": false,
     "input": [
      "#name = \"diffusion\" #name = \"advection_diffusion\" #name = \"laplace2d\"\n",
      "#n = 128\n",
      "name_list = ['diffusion-2']#[\"diffusion\", \"advection_diffusion\", \"laplace2d\"] #[\"laplace2d\"]\n",
      "grid_list = [64, 128, 256]\n",
      "acc = 1e-16\n",
      "\n",
      "print \"Start!\"\n",
      "for name in name_list:\n",
      "    for n in grid_list:\n",
      "        file_name = \"matrix_\" + name + \"_grid\" + str(n) + \".mat\"\n",
      "        file_name = 'matrices/' + file_name\n",
      "        file_in = open(file_name, 'rb')\n",
      "        data = loadmat(file_in)\n",
      "        file_in.close()\n",
      "        a, y0 = data['A'], data['y0']\n",
      "        id_n = sp.identity(a.shape[0])\n",
      "        \n",
      "        results = compute_alr(a, y0, id_n, acc)\n",
      "        savemat(\"alr_\" + name + \"_grid\" + str(n)+'.mat', results)\n",
      "        print \"alr_\" + name + \"_grid\" + str(n) + \" is handled.\"\n",
      "        #results = compute_alr_mod(a, y0, id_n, acc)\n",
      "        #savemat(\"data/alr_mod_\" + name + \"_grid\" + str(n)+'.mat', results)\n",
      "        #print \"data/alr_mod_\" + name + \"_grid\" + str(n) + \" is handled.\"\n",
      "print \"Ready!\""
     ],
     "language": "python",
     "metadata": {
      "code_folding": []
     },
     "outputs": [
      {
       "output_type": "stream",
       "stream": "stdout",
       "text": [
        "Start!\n",
        "data/alr_diffusion-2_grid64 is handled."
       ]
      },
      {
       "output_type": "stream",
       "stream": "stdout",
       "text": [
        "\n",
        "data/alr_diffusion-2_grid128 is handled."
       ]
      },
      {
       "output_type": "stream",
       "stream": "stdout",
       "text": [
        "\n",
        "data/alr_diffusion-2_grid256 is handled."
       ]
      },
      {
       "output_type": "stream",
       "stream": "stdout",
       "text": [
        "\n",
        "Ready!\n"
       ]
      }
     ],
     "prompt_number": 8
    },
    {
     "cell_type": "code",
     "collapsed": false,
     "input": [],
     "language": "python",
     "metadata": {},
     "outputs": []
    }
   ],
   "metadata": {}
  }
 ]
}