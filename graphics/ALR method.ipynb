{
 "metadata": {
  "name": "",
  "signature": "sha256:6e44b634eedbad5582c09159d2db43a30cd5b8f3401810d076ac27f72850fa08"
 },
 "nbformat": 3,
 "nbformat_minor": 0,
 "worksheets": [
  {
   "cells": [
    {
     "cell_type": "code",
     "collapsed": false,
     "input": [
      "#ALR mod method\n",
      "def compute_alr_mod(a, y0, id_n, acc): \n",
      "    r = 49\n",
      "    inner_toler = 1e-16\n",
      "    max_eps = 0.2\n",
      "    u = y0 / la.norm(y0)\n",
      "    b = u.T.dot(a.dot(u))\n",
      "    toler = la.norm(a.dot(u)/b - u) * acc \n",
      "    \n",
      "    resnrm_alr, eps_alr, eps_z, eps_u1 = [], [], [], []\n",
      "    #la.norm(a.dot(u)/b - u) * la.norm(y0)**2]\n",
      "    \n",
      "    i = 0\n",
      "    u = np.linalg.qr(u, mode='reduced')[0]\n",
      "    w0 = a.dot(u) - u.dot(b)\n",
      "    w0 /= la.norm(w0)\n",
      "    w0 = w0.reshape(-1, 1)\n",
      "\n",
      "    while True: #u.shape[1] <= r:\n",
      "      \n",
      "        \n",
      "        au = a.dot(u)\n",
      "        b = u.T.dot(au)\n",
      "        yr = u.T.dot(y0)\n",
      "        z0 = la.solve_lyapunov(b, yr.dot(yr.T))\n",
      "        u1 = au - u.dot(b)\n",
      "        rs = u1.dot(z0)\n",
      "        #if q < toler:\n",
      "        #    break\n",
      "\n",
      "        #rs_s, qrs = la.svd(rs, full_matrices=False)[1:]\n",
      "        rmat = np.linalg.qr(rs, 'r')\n",
      "        q = la.norm(rmat, 'fro')\n",
      "        resnrm_alr.append(q)\n",
      "        \n",
      "        qz, sz = la.svd(z0)[:2]\n",
      "        qu1, su1 = la.svd(u1, full_matrices=False)[:2]\n",
      "        rs_s, qrs = la.svd(rmat, full_matrices=False)[1:]\n",
      "        \n",
      "        qn = z0[0, :].reshape(1, -1)\n",
      "        qn /= la.norm(qn)\n",
      "        \n",
      "        un = u.dot(qrs.T)#\n",
      "        k = min(1, len(rs_s)-1)\n",
      "        k1 = min(5, len(sz))\n",
      "        #print \"r = %d\"%u.shape[1]\n",
      "        #print \"Rs  \", rs_s[k:k1]/rs_s[0]\n",
      "        #print \"Su1 \", su1[k:k1]/su1[0]\n",
      "        #print \"Sz  \", sz[k:k1]/sz[0] #la.norm(sz[k:])/la.norm(sz)\n",
      "        eps_z.append(la.norm(sz[k:])/la.norm(sz))\n",
      "        eps_u1.append(la.norm(su1[k:])/la.norm(su1))\n",
      "        eps_alr.append(la.norm(rs_s[k:])/la.norm(rs_s))\n",
      "        #if np.sum(rs_s)/rs_s[0] > 1.0 + max_eps:\n",
      "        #    un = un[:, rs_s > inner_toler * rs_s[0]]\n",
      "        #    print 'i = %d, r = %d, eps = %1.2g, q = %1.2g'%(i, u.shape[1], np.sum(rs_s)/rs_s[0] - 1.0, q)\n",
      "        if i >= r:\n",
      "            break\n",
      "        #aun = a.dot(un)\n",
      "        #bn = qrs.dot(b).dot(qrs.T)\n",
      "        bn = qn.dot(b).dot(qn.T)\n",
      "        #print bn\n",
      "        \n",
      "        #bn = un.T.dot(a.dot(un))\n",
      "        #bn = un.T.dot(aun)\n",
      "        #yrn = un.T.dot(y0)\n",
      "        #yrn = qrs.dot(yr)\n",
      "        #z0n = la.solve_lyapunov(bn, yrn.dot(yrn.T))\n",
      "        #rsn = (a.dot(un) - un.dot(bn)).dot(z0n)\n",
      "        #rsn = (aun - un.dot(bn)).dot(z0n)\n",
      "        #rsn = rs.dot(qrs.T)\n",
      "        rsn_1 = rs.dot(qrs.T[0, :])\n",
      "        #print min(la.norm(rsn_1.reshape(-1, 1)/la.norm(rsn_1) - w0), \n",
      "        #          la.norm(rsn_1.reshape(-1, 1)/la.norm(rsn_1) + w0))\n",
      "\n",
      "        v = sla.spsolve(a + bn[0, 0] * id_n, w0).reshape(-1, 1)\n",
      "        #v = v / la.norm(v)\n",
      "        w = w0.reshape(-1, 1)\n",
      "        #w = w / la.norm(w)\n",
      "        #w = rsn[:, 0].reshape(-1, 1)\n",
      "        \n",
      "        p = np.zeros(u.shape)\n",
      "        p[:, 0] = v[:, 0]\n",
      "        #print \"Sylvester err1  = \", la.norm(a.dot(p) + p.dot(bn) - rs.dot(qrs.T))/la.norm(p)\n",
      "        p = p.dot(qrs)\n",
      "        #print \"Sylvester err  = \", la.norm(a.dot(p) + p.dot(b) - rs)/la.norm(p)\n",
      "        \n",
      "        #for k in xrange(2):\n",
      "        #    v -= un.dot(un.T.dot(v))\n",
      "        #    v = v / la.norm(v)\n",
      "        #    w -= un.dot(un.T.dot(w)) + w.T.dot(v) * v\n",
      "        #    w = w / la.norm(w)\n",
      "        \n",
      "        u = np.hstack((w, u))\n",
      "        v -= u.dot(u.T.dot(v))\n",
      "        v /= la.norm(v)\n",
      "        v -= u.dot(u.T.dot(v))\n",
      "        v /= la.norm(v)\n",
      "        u = np.hstack((u, v))\n",
      "        \n",
      "        #u = np.linalg.qr(u, mode='reduced')[0]\n",
      "        \n",
      "        w0 = a.dot(w0)\n",
      "        w0 -= u.dot(u.T.dot(w0))\n",
      "        w0 /= la.norm(w0)\n",
      "        w0 -= u.dot(u.T.dot(w0))\n",
      "        w0 /= la.norm(w0)\n",
      "        w0 -= u.dot(u.T.dot(w0))\n",
      "        w0 /= la.norm(w0)\n",
      "        \n",
      "        #print la.norm(u.T.dot(u) - np.eye(u.shape[1]))/u.shape[1]\n",
      "        \n",
      "        \n",
      "        #uadd = np.hstack((v, w))\n",
      "        #for k in xrange(2):\n",
      "        #    uadd = uadd - un.dot(un.T.dot(uadd))\n",
      "        #    uadd = np.linalg.qr(uadd, mode='reduced')[0]\n",
      "        #u = np.hstack((un, uadd))\n",
      "\n",
      "        i += 1\n",
      "    return {'resnorm': resnrm_alr, 'u': u, 'eps': eps_alr, 'eps_z': eps_z, 'eps_u1': eps_u1}"
     ],
     "language": "python",
     "metadata": {
      "code_folding": [
       0
      ]
     },
     "outputs": [],
     "prompt_number": 4
    },
    {
     "cell_type": "code",
     "collapsed": false,
     "input": [
      "#import\n",
      "import sys\n",
      "sys.path.append('../')\n",
      "import lyaplr\n",
      "import lyaplr.algorithms.solvers as gm\n",
      "import lyaplr.algorithms.norms_and_gradients as ng\n",
      "import lyaplr.algorithms.manifold_methods as mm\n",
      "import numpy as np\n",
      "import scipy.sparse as sp\n",
      "import math\n",
      "import scipy.sparse.linalg as sla\n",
      "from numpy.random import randn as nprand\n",
      "import scipy.linalg as la\n",
      "from scipy.io import loadmat, savemat\n",
      "from time import time\n",
      "import pickle"
     ],
     "language": "python",
     "metadata": {
      "code_folding": [
       0
      ]
     },
     "outputs": [],
     "prompt_number": 1
    },
    {
     "cell_type": "code",
     "collapsed": false,
     "input": [
      "#ALR method\n",
      "def compute_alr(a, y0, id_n, acc):  \n",
      "    r = 49\n",
      "    inner_toler = 1e-16\n",
      "    max_eps = 0.2\n",
      "    u = y0 / la.norm(y0)\n",
      "    b = u.T.dot(a.dot(u))\n",
      "    toler = la.norm(a.dot(u)/b - u) * acc \n",
      "    \n",
      "    resnrm_alr, eps_alr, eps_z, eps_u1 = [], [], [], []\n",
      "    #la.norm(a.dot(u)/b - u) * la.norm(y0)**2]\n",
      "    \n",
      "    i = 0\n",
      "    u = np.linalg.qr(u, mode='reduced')[0]\n",
      "    w0 = a.dot(u) - u.dot(b)\n",
      "    w0 /= la.norm(w0)\n",
      "    w0 = w0.reshape(-1, 1)\n",
      "\n",
      "    while True: #u.shape[1] <= r:\n",
      "      \n",
      "        \n",
      "        au = a.dot(u)\n",
      "        b = u.T.dot(au)\n",
      "        yr = u.T.dot(y0)\n",
      "        z0 = la.solve_lyapunov(b, yr.dot(yr.T))\n",
      "        u1 = au - u.dot(b)\n",
      "        rs = u1.dot(z0)\n",
      "\n",
      "        q = la.norm(rs)\n",
      "        if u1.shape[1] > 1:\n",
      "            u2 = np.zeros(u1.shape)\n",
      "            u2[:, 0] = u1[:, 0]\n",
      "            u2[:, 1] = u1[:, 1]\n",
      "            rs2 = u2.dot(z0)\n",
      "            #print la.norm(rs - rs2)/la.norm(rs)\n",
      "            q = la.norm(rs2)\n",
      "        #    print la.norm(u1[:, 0]), la.norm(u1[:, 1]), la.norm(u1[:, 2:]), la.norm(rs - w0.dot(w0.T.dot(rs)))/la.norm(rs)\n",
      "\n",
      "        resnrm_alr.append(q)\n",
      "        if i >= r:\n",
      "            break\n",
      "            \n",
      "        qn = z0[0, :].reshape(1, -1)\n",
      "        qn /= la.norm(qn)\n",
      "        \n",
      "        bn = qn.dot(b).dot(qn.T)\n",
      "        v = sla.spsolve(a + bn[0, 0] * id_n, w0).reshape(-1, 1)\n",
      "        \n",
      "        u = np.hstack((w0, u))\n",
      "        v -= u.dot(u.T.dot(v))\n",
      "        v /= la.norm(v)\n",
      "        v -= u.dot(u.T.dot(v))\n",
      "        v /= la.norm(v)\n",
      "        u = np.hstack((v, u))\n",
      "        \n",
      "        w0 = a.dot(w0)\n",
      "        w0 -= u.dot(u.T.dot(w0))\n",
      "        w_norm = la.norm(w0)\n",
      "        w0 /= la.norm(w0)\n",
      "        w0 -= u.dot(u.T.dot(w0))\n",
      "        w0 /= la.norm(w0)\n",
      "        \n",
      "        i += 1\n",
      "    return {'resnorm': resnrm_alr, 'u': u, 'eps': eps_alr, 'eps_z': eps_z, 'eps_u1': eps_u1}"
     ],
     "language": "python",
     "metadata": {
      "code_folding": [
       0
      ]
     },
     "outputs": [],
     "prompt_number": 2
    },
    {
     "cell_type": "code",
     "collapsed": false,
     "input": [
      "#name = \"diffusion\" #name = \"advection_diffusion\" #name = \"laplace2d\"\n",
      "#n = 128\n",
      "name_list = ['diffusion-2']#[\"diffusion\", \"advection_diffusion\", \"laplace2d\"] #[\"laplace2d\"]\n",
      "grid_list = [64, 128, 256]\n",
      "acc = 1e-16\n",
      "\n",
      "print \"Start!\"\n",
      "for name in name_list:\n",
      "    for n in grid_list:\n",
      "        file_name = \"matrix_\" + name + \"_grid\" + str(n) + \".mat\"\n",
      "        file_name = 'data/' + file_name\n",
      "        file_in = open(file_name, 'rb')\n",
      "        data = loadmat(file_in)\n",
      "        file_in.close()\n",
      "        a, y0 = data['A'], data['y0']\n",
      "        id_n = sp.identity(a.shape[0])\n",
      "        \n",
      "        results = compute_alr(a, y0, id_n, acc)\n",
      "        savemat(\"data/alr_\" + name + \"_grid\" + str(n)+'.mat', results)\n",
      "        print \"data/alr_\" + name + \"_grid\" + str(n) + \" is handled.\"\n",
      "        #results = compute_alr_mod(a, y0, id_n, acc)\n",
      "        #savemat(\"data/alr_mod_\" + name + \"_grid\" + str(n)+'.mat', results)\n",
      "        #print \"data/alr_mod_\" + name + \"_grid\" + str(n) + \" is handled.\"\n",
      "print \"Ready!\""
     ],
     "language": "python",
     "metadata": {
      "code_folding": []
     },
     "outputs": [
      {
       "output_type": "stream",
       "stream": "stdout",
       "text": [
        "Start!\n",
        "data/alr_diffusion-2_grid64 is handled."
       ]
      },
      {
       "output_type": "stream",
       "stream": "stdout",
       "text": [
        "\n",
        "data/alr_diffusion-2_grid128 is handled."
       ]
      },
      {
       "output_type": "stream",
       "stream": "stdout",
       "text": [
        "\n",
        "data/alr_diffusion-2_grid256 is handled."
       ]
      },
      {
       "output_type": "stream",
       "stream": "stdout",
       "text": [
        "\n",
        "Ready!\n"
       ]
      }
     ],
     "prompt_number": 8
    },
    {
     "cell_type": "code",
     "collapsed": false,
     "input": [
      "#Tests\n",
      "u = nprand(n, 5)\n",
      "u = np.hstack((u, y0))\n",
      "\n",
      "b = u.T.dot(a.dot(u))\n",
      "yr = u.T.dot(y0)\n",
      "z0 = la.solve_lyapunov(b, yr.dot(yr.T))\n",
      "rs = (a.dot(u) - u.dot(b)).dot(z0)\n",
      "\n",
      "rs_s, qrs = la.svd(rs, full_matrices=False)[1:]\n",
      "aub_s = la.svd(a.dot(u) - u.dot(b), full_matrices=False)[1]\n",
      "print rs_s[1]/rs_s[0]\n",
      "print aub_s[:4]/aub_s[0]\n",
      "un = u.dot(qrs.T)\n",
      "bn = un.T.dot(a.dot(un))\n",
      "yrn = un.T.dot(y0)\n",
      "z0n = la.solve_lyapunov(bn, yrn.dot(yrn.T))\n",
      "rsn = (a.dot(un) - un.dot(bn)).dot(z0n)\n",
      "\n",
      "v = sla.spsolve(a + bn[0, 0] * id_n, rsn[:, 0]).reshape(-1, 1)\n",
      "x = gm.solve_sylvester_sparse_common(a, bn.T, rsn)\n",
      "\n",
      "x1 = x.copy()\n",
      "x1[:, 0] -= v[:, 0]\n",
      "#print la.norm(x1)/la.norm(x)\n",
      "#print bn[:, 0]/bn[0, 0]\n",
      "#print bn[0, :]/bn[0, 0]\n",
      "#print bn[:, :]/bn[0, 0]"
     ],
     "language": "python",
     "metadata": {
      "code_folding": [
       0
      ]
     },
     "outputs": [
      {
       "output_type": "stream",
       "stream": "stdout",
       "text": [
        "9.02411455443e-05\n",
        "[ 1.          0.80963014  0.79647569  0.79609226]\n"
       ]
      }
     ],
     "prompt_number": 184
    },
    {
     "cell_type": "code",
     "collapsed": false,
     "input": [
      "n = 128\n",
      "name = 'diffusion'\n",
      "file_name = \"matrix_\" + name + \"_grid\" + str(n) + \".mat\"\n",
      "file_name = 'data/' + file_name\n",
      "file_in = open(file_name, 'rb')\n",
      "data = loadmat(file_in)\n",
      "file_in.close()\n",
      "a, y0 = data['A'], data['y0']\n",
      "id_n = sp.identity(a.shape[0])\n"
     ],
     "language": "python",
     "metadata": {},
     "outputs": [],
     "prompt_number": 91
    },
    {
     "cell_type": "code",
     "collapsed": false,
     "input": [
      "%time compute_alr(a, y0, id_n, acc)"
     ],
     "language": "python",
     "metadata": {},
     "outputs": [
      {
       "output_type": "stream",
       "stream": "stdout",
       "text": [
        "CPU times: user 7.09 s, sys: 375 ms, total: 7.47 s\n",
        "Wall time: 3.76 s\n"
       ]
      },
      {
       "metadata": {},
       "output_type": "pyout",
       "prompt_number": 97,
       "text": [
        "{'eps': [1.0,\n",
        "  1.3305382581298923e-13,\n",
        "  3.8779752621862486e-13,\n",
        "  5.96564095200518e-12,\n",
        "  3.701081393589385e-11,\n",
        "  1.255787802343421e-10,\n",
        "  8.606806777545638e-10,\n",
        "  4.844314671917861e-09,\n",
        "  1.0609676926345386e-08,\n",
        "  3.567912681729567e-08,\n",
        "  1.3675339486220998e-07,\n",
        "  1.4218939898908675e-06,\n",
        "  1.8828325143623736e-05,\n",
        "  0.00030670958295925987,\n",
        "  0.006303389984474522,\n",
        "  0.10136661996224146,\n",
        "  0.07396703684371987,\n",
        "  0.1778465378261497,\n",
        "  0.28271514444732265,\n",
        "  0.6359046848183767,\n",
        "  0.33417300032521774,\n",
        "  0.5665412913786982,\n",
        "  0.3601332206062826,\n",
        "  0.3785619442785965,\n",
        "  0.410481406033111,\n",
        "  0.08813738204617085],\n",
        " 'resnorm': [189.11637590224942,\n",
        "  7.8753160842082117,\n",
        "  1.3012766832289531,\n",
        "  0.27367373055995647,\n",
        "  0.051754273396692106,\n",
        "  0.010325200902535929,\n",
        "  0.0023641911235431031,\n",
        "  0.00045626248817019597,\n",
        "  0.00014617344281688666,\n",
        "  4.977241912335083e-05,\n",
        "  3.3639269719090481e-05,\n",
        "  7.1841385894981592e-06,\n",
        "  2.7515689195426377e-06,\n",
        "  7.791674243209882e-07,\n",
        "  3.068170725921869e-07,\n",
        "  3.4233179221070036e-07,\n",
        "  1.0328825926689503e-07,\n",
        "  3.7927787007174722e-08,\n",
        "  1.6499270358850343e-08,\n",
        "  6.028956014325452e-09,\n",
        "  4.8918862151134064e-09,\n",
        "  2.2577385489996161e-09,\n",
        "  1.5856479574954481e-09,\n",
        "  7.2492668059650661e-10,\n",
        "  3.0407098626428959e-10,\n",
        "  2.3859613709944052e-10],\n",
        " 'u': array([[ -1.37929100e-01,   3.90202893e-02,   2.07816491e-03, ...,\n",
        "           2.32237766e-03,  -3.61932701e-02,  -1.63174054e-03],\n",
        "        [ -1.37885817e-01,   3.88479797e-02,   2.08599950e-03, ...,\n",
        "          -6.98528328e-04,  -1.57347060e-02,  -1.60263704e-02],\n",
        "        [ -1.37887057e-01,   3.84916988e-02,   2.10487101e-03, ...,\n",
        "          -1.27647637e-03,  -3.81662199e-03,  -7.07828997e-03],\n",
        "        ..., \n",
        "        [  3.04232953e-23,  -1.22345331e-22,   5.26248322e-24, ...,\n",
        "          -5.42805298e-25,   2.20153036e-22,   6.35998600e-23],\n",
        "        [  3.09443829e-23,  -1.24024471e-22,   5.33218405e-24, ...,\n",
        "          -5.59943981e-25,   2.20528411e-22,   6.31057742e-23],\n",
        "        [  3.11952980e-23,  -1.24821648e-22,   5.36518573e-24, ...,\n",
        "          -5.54519868e-25,   2.20657450e-22,   6.24534471e-23]])}"
       ]
      }
     ],
     "prompt_number": 97
    },
    {
     "cell_type": "code",
     "collapsed": false,
     "input": [
      "import scipy.sparse.linalg as sla\n",
      "%timeit sla.spsolve(a, y0)"
     ],
     "language": "python",
     "metadata": {},
     "outputs": [
      {
       "output_type": "stream",
       "stream": "stdout",
       "text": [
        "1 loops, best of 3: 684 ms per loop\n"
       ]
      }
     ],
     "prompt_number": 83
    },
    {
     "cell_type": "code",
     "collapsed": false,
     "input": [
      "id_n = sp.identity(a.shape[0])\n",
      "\n",
      "import time\n",
      "t = time.time()\n",
      "res = compute_alr(a, y0, id_n, acc)\n",
      "print time.time() - t"
     ],
     "language": "python",
     "metadata": {},
     "outputs": [
      {
       "output_type": "stream",
       "stream": "stdout",
       "text": [
        "15.7329630852\n"
       ]
      }
     ],
     "prompt_number": 42
    },
    {
     "cell_type": "code",
     "collapsed": false,
     "input": [
      "%load_ext line_profiler"
     ],
     "language": "python",
     "metadata": {},
     "outputs": [],
     "prompt_number": 33
    },
    {
     "cell_type": "code",
     "collapsed": false,
     "input": [
      "print qr.dot(b).dot(qr.T)"
     ],
     "language": "python",
     "metadata": {},
     "outputs": [
      {
       "ename": "NameError",
       "evalue": "name 'qr' is not defined",
       "output_type": "pyerr",
       "traceback": [
        "\u001b[0;31m---------------------------------------------------------------------------\u001b[0m\n\u001b[0;31mNameError\u001b[0m                                 Traceback (most recent call last)",
        "\u001b[0;32m<ipython-input-15-38ec98db772d>\u001b[0m in \u001b[0;36m<module>\u001b[0;34m()\u001b[0m\n\u001b[0;32m----> 1\u001b[0;31m \u001b[0;32mprint\u001b[0m \u001b[0mqr\u001b[0m\u001b[0;34m.\u001b[0m\u001b[0mdot\u001b[0m\u001b[0;34m(\u001b[0m\u001b[0mb\u001b[0m\u001b[0;34m)\u001b[0m\u001b[0;34m.\u001b[0m\u001b[0mdot\u001b[0m\u001b[0;34m(\u001b[0m\u001b[0mqr\u001b[0m\u001b[0;34m.\u001b[0m\u001b[0mT\u001b[0m\u001b[0;34m)\u001b[0m\u001b[0;34m\u001b[0m\u001b[0m\n\u001b[0m",
        "\u001b[0;31mNameError\u001b[0m: name 'qr' is not defined"
       ]
      }
     ],
     "prompt_number": 15
    },
    {
     "cell_type": "code",
     "collapsed": false,
     "input": [
      "!cp ALR\\ method.ipynb ALR_reserve.ipynb"
     ],
     "language": "python",
     "metadata": {},
     "outputs": [],
     "prompt_number": 7
    },
    {
     "cell_type": "code",
     "collapsed": false,
     "input": [],
     "language": "python",
     "metadata": {},
     "outputs": []
    }
   ],
   "metadata": {}
  }
 ]
}