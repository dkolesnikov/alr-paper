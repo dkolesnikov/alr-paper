{
 "metadata": {
  "name": "",
  "signature": "sha256:301e0642c6f2ba15e4de1f89db080fafa5d69c0772ae0e75c59eb054444285bf"
 },
 "nbformat": 3,
 "nbformat_minor": 0,
 "worksheets": [
  {
   "cells": [
    {
     "cell_type": "code",
     "collapsed": false,
     "input": [
      "import numpy as np\n",
      "import pickle\n",
      "from fipy import *\n",
      "import scipy.io as io\n",
      "\n",
      "nx = 64\n",
      "while True:\n",
      "    ny = nx\n",
      "    dx = 1./nx\n",
      "    dy = dx\n",
      "    L = dx * nx\n",
      "    mesh = Grid2D(dx=dx, dy=dy, nx=nx, ny=ny)\n",
      "\n",
      "    D = 1e-2\n",
      "    c_conv = 1., -1\n",
      "    eq = TransientTerm() == DiffusionTerm(coeff=D) + ConvectionTerm(coeff=c_conv)\n",
      "\n",
      "    phi = CellVariable(name = \"solution variable\",\n",
      "                       mesh = mesh,\n",
      "                       value = 0.)\n",
      "\n",
      "    valueTopLeft = 0\n",
      "    valueBottomRight = 1\n",
      "\n",
      "    X, Y = mesh.faceCenters\n",
      "    facesTopLeft = ((mesh.facesLeft & (Y > L / 2))\n",
      "                    | (mesh.facesTop & (X < L / 2)))\n",
      "    facesBottomRight = ((mesh.facesRight & (Y < L / 2))\n",
      "                        | (mesh.facesBottom & (X > L / 2)))\n",
      "\n",
      "    BCs = (FixedValue(faces=facesTopLeft, value=0),\n",
      "       FixedValue(faces=facesBottomRight, value=1))\n",
      "        \n",
      "    phi.constrain(valueTopLeft, facesTopLeft)\n",
      "    phi.constrain(valueBottomRight, facesBottomRight)\n",
      "\n",
      "    file_out = open(\"matrix_diffusion-2_grid%d.mat\" % nx, \"w\")\n",
      "\n",
      "    eq.cacheMatrix()\n",
      "    eq.cacheRHSvector()\n",
      "    eq.solve(var=phi, boundaryConditions=BCs, dt = 1./nx)\n",
      "    xmat = eq.matrix.matrix\n",
      "    xmat.export_mtx('test_diffusion.mtx')\n",
      "    xmat_csr = io.mmread('test_diffusion.mtx')\n",
      "    vec = eq.RHSvector\n",
      "    vec = np.reshape(vec, (-1, 1))\n",
      "    if vec.T.dot(xmat_csr.dot(vec)) > 0:\n",
      "        xmat_csr *= -1.0\n",
      "    io.savemat(file_out, {'A':xmat_csr, 'y0':vec})\n",
      "    file_out.close()\n",
      "    \n",
      "    print \"Grid%d\" % nx, \" is ready.\"\n",
      "    nx *= 2\n",
      "    if nx > 512:\n",
      "        break\n",
      "\n",
      "print \"Export is successful!\""
     ],
     "language": "python",
     "metadata": {},
     "outputs": [
      {
       "output_type": "stream",
       "stream": "stdout",
       "text": [
        "Grid64  is ready.\n",
        "Grid128"
       ]
      },
      {
       "output_type": "stream",
       "stream": "stdout",
       "text": [
        "  is ready.\n",
        "Grid256"
       ]
      },
      {
       "output_type": "stream",
       "stream": "stdout",
       "text": [
        "  is ready.\n",
        "Grid512"
       ]
      },
      {
       "output_type": "stream",
       "stream": "stdout",
       "text": [
        "  is ready.\n",
        "Export is successful!\n"
       ]
      }
     ],
     "prompt_number": 6
    },
    {
     "cell_type": "code",
     "collapsed": false,
     "input": [
      "!ls"
     ],
     "language": "python",
     "metadata": {},
     "outputs": [
      {
       "output_type": "stream",
       "stream": "stdout",
       "text": [
        "Bad example.ipynb                      matrix_advection_diffusion_grid32.mat\r\n",
        "Example Laplace2d.ipynb                matrix_advection_diffusion_grid512.mat\r\n",
        "Example advection-diffusion.ipynb      matrix_advection_diffusion_grid64.mat\r\n",
        "Example convection-diffusion.ipynb     matrix_diffusion_grid128.mat\r\n",
        "laplace_2d_grid128.mat                 matrix_diffusion_grid256.mat\r\n",
        "laplace_2d_grid256.mat                 matrix_diffusion_grid32.mat\r\n",
        "laplace_2d_grid32.mat                  matrix_diffusion_grid512.mat\r\n",
        "laplace_2d_grid512.mat                 matrix_diffusion_grid64.mat\r\n",
        "laplace_2d_grid64.mat                  mesh Stokes.ipynb\r\n",
        "matrix_advection_diffusion_grid128.mat mesh20x20.ipynb\r\n",
        "matrix_advection_diffusion_grid256.mat plot1.png\r\n"
       ]
      }
     ],
     "prompt_number": 6
    },
    {
     "cell_type": "code",
     "collapsed": false,
     "input": [],
     "language": "python",
     "metadata": {},
     "outputs": []
    }
   ],
   "metadata": {}
  }
 ]
}