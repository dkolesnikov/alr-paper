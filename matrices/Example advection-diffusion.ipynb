{
 "metadata": {
  "name": "",
  "signature": "sha256:620b22becac913002277b1b5b1f63f449cf00e4ebf178ce1cb44038007c3e82e"
 },
 "nbformat": 3,
 "nbformat_minor": 0,
 "worksheets": [
  {
   "cells": [
    {
     "cell_type": "heading",
     "level": 1,
     "metadata": {},
     "source": [
      "Generate Advection test matrices"
     ]
    },
    {
     "cell_type": "markdown",
     "metadata": {},
     "source": [
      "We generate matrices corresponding to the operator \n",
      "$$\n",
      "  \\int_V \\nabla \\cdot (\\vec{u} \\phi)\\,dV \n",
      "$$"
     ]
    },
    {
     "cell_type": "code",
     "collapsed": false,
     "input": [
      "import pickle\n",
      "import scipy.io as io\n",
      "import numpy as np\n",
      "from fipy import *\n",
      "nx = 32\n",
      "while True:\n",
      "    ny = nx\n",
      "    dx = 1./nx\n",
      "    dy = dx\n",
      "    L = dx * nx\n",
      "    mesh = Grid2D(dx=dx, dy=dy, nx=nx, ny=ny)\n",
      "\n",
      "    phi = CellVariable(name = \"solution variable\",\n",
      "                       mesh = mesh,\n",
      "                       value = 0.)\n",
      "    epsilon = 0.3\n",
      "    b = ((1,), (1,))\n",
      "    # (1) looks the same\n",
      "    # (2) looks a bit worse than (1)\n",
      "    # (3) different\n",
      "    convection = CentralDifferenceConvectionTerm # fails\n",
      "    convection = ExponentialConvectionTerm # (1)\n",
      "    convection = HybridConvectionTerm # (1)\n",
      "    convection = ExplicitUpwindConvectionTerm # (1)\n",
      "    #convection = UpwindConvectionTerm # (2)\n",
      "    #convection = ExplicitUpwindConvectionTerm # (3)\n",
      "    convection = VanLeerConvectionTerm # (3)\n",
      "    eq = TransientTerm(0.) -convection(coeff=b)+DiffusionTerm(coeff=epsilon) == 0\n",
      "\n",
      "    x, y = mesh.getFaceCenters()\n",
      "    facesTopRight = ((mesh.getFacesRight() & (y > L / 2))\n",
      "                    | (mesh.getFacesTop() & (x > L / 2)))\n",
      "    facesBottomLeft = ((mesh.getFacesLeft() & (y < L / 2))\n",
      "                        | (mesh.getFacesBottom() & (x < L / 2)))\n",
      "    BCs = (FixedValue(faces=facesTopRight, value=0),\n",
      "           FixedValue(faces=facesBottomLeft, value=1))\n",
      "    eq.cacheMatrix()\n",
      "    eq.cacheRHSvector()\n",
      "    eq.solve(var=phi, boundaryConditions=BCs, dt=1.0)\n",
      "    xmat = eq.matrix.matrix\n",
      "    xmat.export_mtx('test_advection.mtx')\n",
      "    vec = eq.RHSvector\n",
      "    vec = np.reshape(vec, (-1, 1))\n",
      "    #np.savez(\"test_advection_rhs\", vec=vec)\n",
      "    xmat_csr = io.mmread(\"test_advection.mtx\").tocsr()\n",
      "    !rm test_advection.mtx\n",
      "    if vec.T.dot(xmat_csr.dot(vec)) > 0:\n",
      "        xmat_csr *= -1.0\n",
      "    file_out = open(\"matrix_advection_diffusion_grid%d.mat\" %nx, \"w\")\n",
      "    io.savemat(file_out, {'A':xmat_csr, 'y0':vec})\n",
      "    file_out.close()\n",
      "    print \"Grid%d\" %nx, \" is ready.\" \n",
      "    nx *= 2\n",
      "    if nx > 512:\n",
      "        break\n",
      "print \"Export is successful!\"\n",
      "#viewer = Viewer(vars=phi, datamin=0., datamax=1.)\n",
      "#viewer.plot()\n",
      "#viewer.plotMesh()\n",
      "#viewer.plot(filename=\"plot1.png\")\n",
      "#viewer.plot()\n"
     ],
     "language": "python",
     "metadata": {},
     "outputs": [
      {
       "output_type": "stream",
       "stream": "stdout",
       "text": [
        "Grid32  is ready.\n"
       ]
      },
      {
       "output_type": "stream",
       "stream": "stdout",
       "text": [
        "Grid64  is ready.\n"
       ]
      },
      {
       "output_type": "stream",
       "stream": "stdout",
       "text": [
        "Grid128  is ready.\n"
       ]
      },
      {
       "output_type": "stream",
       "stream": "stdout",
       "text": [
        "Grid256  is ready.\n"
       ]
      },
      {
       "output_type": "stream",
       "stream": "stdout",
       "text": [
        "Grid512  is ready.\n",
        "Export is successful!\n"
       ]
      }
     ],
     "prompt_number": 1
    },
    {
     "cell_type": "code",
     "collapsed": false,
     "input": [
      "eq = -convection(coeff=b)+DiffusionTerm(coeff=epsilon) == 0\n"
     ],
     "language": "python",
     "metadata": {},
     "outputs": [],
     "prompt_number": 2
    }
   ],
   "metadata": {}
  }
 ]
}