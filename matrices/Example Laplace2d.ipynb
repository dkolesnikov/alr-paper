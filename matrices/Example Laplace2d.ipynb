{
 "metadata": {
  "name": "",
  "signature": "sha256:10362f864ced32b2ee05a6ce1b4aa80753831d6170dd30480c77888b37bfa31e"
 },
 "nbformat": 3,
 "nbformat_minor": 0,
 "worksheets": [
  {
   "cells": [
    {
     "cell_type": "code",
     "collapsed": false,
     "input": [
      "import pickle\n",
      "import numpy as np\n",
      "from pyamg.gallery import poisson\n",
      "from scipy.io import savemat\n",
      "import scipy.linalg as la\n",
      "\n",
      "nx = 32\n",
      "while True:\n",
      "    a = -poisson((nx, nx))\n",
      "    \n",
      "    t = np.linspace(0, 1, nx+1)[1:nx+1]\n",
      "    x, y = np.meshgrid(t, t)\n",
      "    f = np.exp((-1.0 * (x - 0.5) ** 2 - 1.5 * (y - 0.7) ** 2))\n",
      "    y0 = f.flatten().reshape((-1, 1))\n",
      "    if y0.T.dot(a.dot(y0)) > 0:\n",
      "        a = -a\n",
      "    a = a.tocsc()\n",
      "\n",
      "    #file_out = open(\"matrix_laplace2d_grid%d.pkl\" %nx, \"w\")\n",
      "    #pickle.dump([a, y0], file_out)\n",
      "    #file_out.close()\n",
      "    file_out = open(\"matrix_laplace2d_grid%d.mat\" %nx, \"w\")\n",
      "    savemat(file_out, {'A':a, 'y0':y0})\n",
      "    file_out.close()\n",
      "    #file_out = open(\"laplace_2d_grid%d_vector.mtx\" %nx, \"w\")\n",
      "    #mmwrite(file_out, y0)\n",
      "    #file_out.close()\n",
      "    #mmwrite(file_out, [a, y0, x])\n",
      "    print \"Grid%d\" %nx, \" is ready.\"\n",
      "    nx *= 2\n",
      "    if nx > 512:\n",
      "        break\n",
      "print \"Export is successful!\""
     ],
     "language": "python",
     "metadata": {},
     "outputs": [
      {
       "output_type": "stream",
       "stream": "stdout",
       "text": [
        "Grid32  is ready.\n",
        "Grid64  is ready.\n",
        "Grid128  is ready.\n",
        "Grid256"
       ]
      },
      {
       "output_type": "stream",
       "stream": "stdout",
       "text": [
        "  is ready.\n",
        "Grid512"
       ]
      },
      {
       "output_type": "stream",
       "stream": "stdout",
       "text": [
        "  is ready.\n",
        "Export is successful!\n"
       ]
      }
     ],
     "prompt_number": 1
    },
    {
     "cell_type": "code",
     "collapsed": false,
     "input": [],
     "language": "python",
     "metadata": {},
     "outputs": [],
     "prompt_number": 6
    },
    {
     "cell_type": "code",
     "collapsed": false,
     "input": [],
     "language": "python",
     "metadata": {},
     "outputs": []
    }
   ],
   "metadata": {}
  }
 ]
}